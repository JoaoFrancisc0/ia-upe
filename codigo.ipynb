{
 "cells": [
  {
   "cell_type": "markdown",
   "id": "55ae0e0f",
   "metadata": {},
   "source": [
    "CARREGA A BASE"
   ]
  },
  {
   "cell_type": "code",
   "execution_count": 19,
   "id": "1db90de6",
   "metadata": {},
   "outputs": [
    {
     "name": "stderr",
     "output_type": "stream",
     "text": [
      "C:\\Users\\joaof\\AppData\\Local\\Temp\\ipykernel_18416\\1225244378.py:5: DtypeWarning: Columns (10,18,21,23,62,63,64,81,84,92,93,101,102,103,110,116,118,122,124,129,197,201,206,214,218,219,229,246,254,298,302,303,304,307,308,309,360,369,379,396,425,432,433,435,436,437,452,457,491,493,501,502,503,504,505,528,534,544,548,561,569,570,571,572,573,574,575,576,578,580,581,582,583,584,585,586,587,588,591,600,608,609,610,611,612,613,614,618,624,625,631,634,635,636,637,638,639,640,641,642,643,644,646,647,648,649,650,651,652,653,654,656,657,658,659,660,661,662,663,664,665,666,667,668,669,670,671,672,674,675,676,677,678,679,680,694,720,726,727,728,732,734,735,736,741,742,743,744,745,746,747,771,772,773,774,786) have mixed types. Specify dtype option on import or set low_memory=False.\n",
      "  df = pd.read_csv('pns_2019.csv')\n"
     ]
    },
    {
     "name": "stdout",
     "output_type": "stream",
     "text": [
      "(279382, 816)\n"
     ]
    }
   ],
   "source": [
    "import pandas as pd\n",
    "import numpy as np\n",
    "\n",
    "# Carregar a base de dados\n",
    "df = pd.read_csv('pns_2019.csv')\n",
    "\n",
    "# Base inicial\n",
    "print(df.shape)  # (linhas, colunas)\n",
    "copia_df = df.copy()"
   ]
  },
  {
   "cell_type": "markdown",
   "id": "2502319f",
   "metadata": {},
   "source": [
    "CARREGA A CÓPIA PARA NÃO PRECISAR FICAR CARREGANDO A BASE REPETIDAS VEZES"
   ]
  },
  {
   "cell_type": "code",
   "execution_count": 20,
   "id": "d06cce9c",
   "metadata": {},
   "outputs": [],
   "source": [
    "df = copia_df.copy()"
   ]
  },
  {
   "cell_type": "markdown",
   "id": "9f0234eb",
   "metadata": {},
   "source": [
    "REMOVE LINHAS ONDE ALVO NÃO FOI RESPONDIDA"
   ]
  },
  {
   "cell_type": "code",
   "execution_count": 21,
   "id": "0a5c393a",
   "metadata": {},
   "outputs": [
    {
     "name": "stdout",
     "output_type": "stream",
     "text": [
      "(90846, 816)\n"
     ]
    }
   ],
   "source": [
    "df = df.dropna(subset=[\"[Q088] Algum médico já lhe deu o diagnóstico de DORT? \"])\n",
    "print(df.shape)  # Verificar o novo tamanho do dataframe"
   ]
  },
  {
   "cell_type": "markdown",
   "id": "a2f816db",
   "metadata": {},
   "source": [
    "VERIFICA PROPORÇÃO DE LINHAS PREENCHIDAS POR COLUNA"
   ]
  },
  {
   "cell_type": "code",
   "execution_count": 22,
   "id": "3e2eb284",
   "metadata": {},
   "outputs": [
    {
     "name": "stdout",
     "output_type": "stream",
     "text": [
      "50%-55%: 3 colunas\n",
      "55%-60%: 30 colunas\n",
      "60%-65%: 4 colunas\n",
      "65%-70%: 2 colunas\n",
      "70%-75%: 1 colunas\n",
      "75%-80%: 7 colunas\n",
      "80%-85%: 11 colunas\n",
      "85%-90%: 1 colunas\n",
      "90%-95%: 8 colunas\n",
      "95%-100%: 239 colunas\n",
      "100%: 203 colunas\n"
     ]
    }
   ],
   "source": [
    "# Calcular a porcentagem de preenchimento para cada coluna\n",
    "percent_filled = df.notna().sum() / len(df) * 100\n",
    "\n",
    "# Contar o número de colunas em cada faixa de preenchimento de 5%, a partir de 50%\n",
    "ranges = {}\n",
    "for i in range(50, 100, 5):\n",
    "    ranges[f'{i}%-{i+5}%'] = percent_filled.between(i, i+5, inclusive=\"both\").sum()\n",
    "\n",
    "# Para 100%, contagem separada\n",
    "ranges['100%'] = (percent_filled == 100).sum()\n",
    "\n",
    "# Exibir os resultados\n",
    "for range_label, count in ranges.items():\n",
    "    print(f\"{range_label}: {count} colunas\")"
   ]
  },
  {
   "cell_type": "markdown",
   "id": "ea7eaef3",
   "metadata": {},
   "source": [
    "REMOVE COLUNAS COM MENOS DE XX% DOS DADOS PREENCHIDOS"
   ]
  },
  {
   "cell_type": "code",
   "execution_count": 23,
   "id": "214acc8b",
   "metadata": {},
   "outputs": [
    {
     "name": "stdout",
     "output_type": "stream",
     "text": [
      "(90846, 247)\n"
     ]
    }
   ],
   "source": [
    "# Calcular o número total de linhas no DataFrame\n",
    "total_rows = len(df)\n",
    "\n",
    "# Filtrar colunas com XX% ou mais das linhas preenchidas (sem NaN)\n",
    "df = df.loc[:, df.notna().sum() >= (0.9 * total_rows)]\n",
    "\n",
    "# Exibir o novo tamanho do DataFrame\n",
    "print(df.shape)"
   ]
  },
  {
   "cell_type": "markdown",
   "id": "69ad1393",
   "metadata": {},
   "source": [
    "CONVERTE COLUNAS CATEGORICAS DE SIM E NÃO PARA NUMERICAS"
   ]
  },
  {
   "cell_type": "code",
   "execution_count": 24,
   "id": "0511a39a",
   "metadata": {},
   "outputs": [
    {
     "name": "stdout",
     "output_type": "stream",
     "text": [
      "Colunas convertidas:  90\n"
     ]
    }
   ],
   "source": [
    "cont = 0\n",
    "for column in df.columns:\n",
    "    if df[column].dtype == 'object':\n",
    "        stripped = df[column].astype(str).str.strip()\n",
    "        unique_values = stripped.dropna().unique()\n",
    "        if set(unique_values).issubset({'Sim', 'Não'}):\n",
    "            df[column] = np.where(stripped == 'Sim', 1,\n",
    "                          np.where(stripped == 'Não', 0, pd.NA))\n",
    "            cont+=1\n",
    "\n",
    "print(\"Colunas convertidas: \", cont)\n"
   ]
  },
  {
   "cell_type": "markdown",
   "id": "f68195f6",
   "metadata": {},
   "source": [
    "DEFINE O TIPO DA COLUNA COMO FLOAT OU OBJECT"
   ]
  },
  {
   "cell_type": "code",
   "execution_count": 25,
   "id": "749e6c66",
   "metadata": {},
   "outputs": [
    {
     "name": "stdout",
     "output_type": "stream",
     "text": [
      "\n",
      "Colunas float (121):\n",
      "['[V0024] Estrato', '[UPA_PNS] UPA', '[V0006_PNS] Número de ordem do domicílio na PNS', '[V0015] Tipo da entrevista', '[V0020] Ano de referência', '[V0022] Total de moradores', '[A01001]  Quantos cômodos têm este domicílio', '[A011] Quantos cômodos estão servindo permanentemente de dormitório para os moradores deste domicílio', '[A018011] Neste domicílio existe televisão em cores ', '[A018012] Quantos?', '[A018013] Neste domicílio existe geladeira ', '[A018014] Quantos?', '[A018015] Neste domicílio existe máquina de lavar roupa ', '[A018017] Neste domicílio existe telefone fixo convencional', '[A018019] Neste domicílio existe telefone móvel celular ', '[A018020] Quantos?', '[A018021] Neste domicílio existe forno micro-ondas', '[A018023] Neste domicílio existe computador (considere inclusive os portáteis, tais como: laptop, notebook ou netbook)?  ', '[A018025] Neste domicílio existe motocicleta', '[A018027] Neste domicílio existe automóvel', '[A01901] Algum morador tem acesso à Internet no domicílio por meio de computador, tablet, telefone móvel celular, televisão ou outro equipamento?', '[A02101] No seu domicílio, há trabalhador (as) doméstico(as) que trabalham em seu domicílio três vezes ou mais por semana (empregada doméstica, babá, cuidador etc.)', '[A02201]  Em seu domicílio, há algum animal de estimação', '[C001] Número de pessoas no domicílio', '[C00301] Número de ordem do morador', '[C008] Idade do morador na data de referência', '[C01001] Cônjuge ou companheiro(a) mora em nesse domicílio.', '[D001] Sabe ler e escrever', '[D00201] Frequenta escola ou creche', '[E001] Na semana de___ a___ (semana de referência), ___ trabalhou ou estagiou, durante pelo menos uma hora, em alguma atividade remunerada em dinheiro', '[E030] Na semana de ___ a ___ (semana de referência), ___ cuidou de parentes que não moravam neste domicílio e que precisavam de cuidados (crianças, idosos, enfermos ou pessoas com necessidades especiais)? ', '[E03101] Na semana de___a___ (semana de referência), ___fez tarefas domésticas para o próprio domicílio, tais como: preparar ou servir alimentos, arrumar a mesa ou lavar as louças?', '[E03102] Na semana de___a___ (semana de referência), ___fez tarefas domésticas para o próprio domicílio, tais como: cuidar da limpeza ou manutenção de roupas e sapatos/', '[E03103] Na semana de___a___ (semana de referência), ___fez tarefas domésticas para o próprio domicílio, tais como: fazer pequenos reparos ou manutenção do domicílio, do automóvel, de eletrodomésticos ou outros equipamentos? ', '[E03104] Na semana de___a___ (semana de referência), ___fez tarefas domésticas para o próprio domicílio, tais como: Limpar ou arrumar o domicílio, a garagem, o quintal ou o jardim? ', '[E03105] Na semana de___a___ (semana de referência), ___fez tarefas domésticas para o próprio domicílio, tais como: Cuidar da organização do domicílio (pagar contas, contratar serviços, orientar empregados etc.)? ', '[E03106] Na semana de___a___ (semana de referência), ___fez tarefas domésticas para o próprio domicílio, tais como: Fazer compras ou pesquisar preços de bens para o domicílio? ', '[E03107] Na semana de___a___ (semana de referência), ___fez tarefas domésticas para o próprio domicílio, tais como: Cuidar dos animais domésticos? ', '[E03108] Na semana de___a___ (semana de referência), ___fez tarefas domésticas para o próprio domicílio, tais como: Outras tarefas domésticas?', '[E032] . Na semana de___a___ (semana de referência), ___fez alguma tarefa doméstica em domicílio de parente? ', '[E033] . Na semana de___a___ (semana de referência), ___ qual foi o total de horas que dedicou às atividades de cuidados de pessoas e/ou afazeres domésticos? ', '[F001011] Em (mês da pesquisa) ___ recebia normalmente rendimento de aposentadoria ou pensão de instituto de previdência federal (INSS), estadual, municipal, ou do governo federal, estadual, municipal?', '[F007011] Em (mês da pesquisa), ___ recebia normalmente rendimento de pensão alimentícia, doação ou mesada em dinheiro de pessoa que não morava no domicílio?', '[F008011] Em (mês da pesquisa), ___ recebia normalmente rendimento de aluguel ou arrendamento?', '[VDF001] Em (mês da pesquisa), _______ recebia normalmente algum juro de caderneta de poupança e de outras aplicações financeiras, dividendos, programas sociais, seguro-desemprego, seguro defeso ou outros rendimentos? ', '[I00101] tem algum plano odontológico particular, de empresa ou órgão público?', '[I00102] tem algum plano de saúde médico particular, de empresa ou órgão público?', '[J002]  Nas duas últimas semanas, ___ deixou de realizar quaisquer de suas atividades habituais (trabalhar, ir à escola, brincar, afazeres domésticos etc.) por motivo da própria saúde', '[J007] Algum médico já deu o diagnóstico de alguma doença crônica, física ou mental, ou doença de longa duração (de mais de 6 meses de duração) a ___', '[J009]  ___ costuma procurar o mesmo lugar, mesmo médico ou mesmo serviço de saúde quando precisa de atendimento de saúde', '[J014] Nas duas últimas semanas, ___ procurou algum lugar, serviço ou profissional de saúde para atendimento relacionado à própria saúde', '[J037] Nos últimos 12 meses, ___ ficou internado(a) em hospital por 24 horas ou mais', '[J046] Nos últimos 12 meses, ___ teve atendimento de urgência ou emergência no domicílio', '[J05301] Nos últimos doze meses, ___ utilizou tratamento como acupuntura, homeopatia, plantas medicinais e fitoterapia, meditação, yoga, tai chi chuan, lian gong ou outra prática integrativa e complementar a saúde?', '[O00101]  Atualmente, o(a) Sr(a) dirige automóvel (inclusive táxi, aplicativos de transporte e similares)', '[O00201] Atualmente, o(a) Sr(a) dirige motocicleta', '[O009]  Nos últimos doze meses, o(a) Sr(a) se envolveu em algum acidente de trânsito no qual tenha sofrido lesões corporais (ferimentos)', '[P00103] \"Peso - Informado (em kg) (3 inteiros e 1 casa decimal)\"', '[P00104] \"Peso - Final (em kg) (3 inteiros e 1 casa decimal)\"', '[P00404] \"Altura - Final (em cm) (3 inteiros)\"', '[P00601] Ontem o(a) Sr(a) comeu arroz, macarrão, polenta, cuscuz ou milho verde. ', '[P00602] Batata comum, mandioca/aipim/macaxeira, cará ou inhame.', '[P00603] Feijão, ervilha, lentilha ou grão de bico.', '[P00604] Carne de boi, porco, frango, peixe', '[P00605] Ovo (frito, cozido ou mexido ). ', '[P00607] Alface, couve, brócolis, agrião ou espinfre.', '[P00608] Abóbora, cenoura, batata doce ou quiabo/caruru. ', '[P00609] Tomate, pepino, abobrinha, berinjela, chuchu ou beterraba. ', '[P00610] Mamão, manga, melão amarelo ou pequi. ', '[P00611] Laranja, banana, maçã, abacaxi. ', '[P00612] Leite', '[P00613] Amendoim, castanha de caju ou castanha do Brasil/Pará ', '[P00614] ONTEM o(a) Sr(a) tomou ou comeu:Refrigerante', '[P00615] Suco de fruta em caixinha ou lata ou refresco em pó. ', '[P00616]  Bebida achocolatada ou iogurte com sabor. ', '[P00617] Salgadinho de pacote ou biscoito/bolacha salgado.', '[P00618] Biscoito/bolacha doce ou recheado ou bolo de pacote. ', '[P00619] Sorvete, chocolate, gelatina, flan ou outra sobremesa industrializada.', '[P00620] Salsicha, linguiça, mortadela ou presunto. ', '[P00621] Pão de forma, de cachorro-quente ou de hambúrguer.', '[P00622] Margarina, maionese, ketchup ou outros molhos industrializados. ', '[P00623] Macarrão instantâneo, sopa de pacote, lasanha congelada ou outro prato congelado comprado pronto industrilizado.', '[P034] Nos últimos três meses, o(a) Sr(a) praticou algum tipo de exercício físico ou esporte? ', '[P044] Nas suas atividades domésticas, o(a) Sr(a) faz faxina pesada, carrega peso ou faz outra atividade pesada que requer esforço físico intenso? (não considerar atividade doméstica remunerada) ', '[P046] Perto do seu domicílio, existe algum lugar público (praça, parque, rua fechada, praia) para fazer caminhada, realizar exercício ou praticar esporte? ', '[P04701] O(A) Sr(a) conhece algum programa público de estímulo à prática de atividade física no seu município? ', '[Q06306] Algum médico já lhe deu o diagnóstico de uma doença do coração, tal como infarto, angina, insuficiência cardíaca ou outra?', '[Q068] Algum médico já lhe deu o diagnóstico de AVC (Acidente Vascular Cerebral) ou derrame?', '[Q074] Algum médico já lhe deu o diagnóstico de asma (ou bronquite asmática)? ', '[Q079] Algum médico já lhe deu o diagnóstico de artrite ou reumatismo? ', '[Q084] O(a) Sr(a) tem algum problema crônico de coluna, como dor crônica nas costas ou no pescoço, lombalgia, dor ciática, problemas nas vértebras ou disco? ', '[Q088] Algum médico já lhe deu o diagnóstico de DORT? ', '[Q092] Algum médico ou profissional de saúde mental (como psiquiatra ou psicólogo) já lhe deu o diagnóstico de depressão?', '[Q11006] Algum médico ou profissional de saúde (como psiquiatra ou psicólogo) já lhe deu o diagnóstico de outra doença mental, como transtorno de ansiedade, síndrome do pânico, esquizofrenia, transtorno bipolar, psicose ou TOC (Transtorno Obsessivo Compulsivo) etc? ', '[Q11604] Algum médico já lhe deu o diagnóstico de alguma outra doença crônica no pulmão, tais como enfisema pulmonar, bronquite crônica ou DPOC (Doença Pulmonar Obstrutiva Crônica)?', '[Q120] Algum médico já lhe deu diagnóstico de câncer? ', '[Q124] Algum médico já lhe deu o diagnóstico de insuficiência renal crônica? ', '[Q128] Algum médico já lhe deu algum diagnóstico de outra doença crônica (física ou mental) ou doença de longa duração (de mais de 6 meses de duração)? ', '[Q132] Nas últimas duas semanas, o(a) Sr(a) fez uso de algum medicamento para dormir? ', '[U00204]  O que o(a) Sr(a) usa para fazer a limpeza de sua boca Escova de dente', '[U00205]  O que o(a) Sr(a) usa para fazer a limpeza de sua boca Pasta de dente', '[U00206] O que o(a) Sr(a) usa para fazer a limpeza de sua boca Fio dental', '[U00207] O que o(a) Sr(a) usa para fazer a limpeza de sua boca Enxaguatório bucal (como plax, colgate, cepacol)', '[U00208] O que o(a) Sr(a) usa para fazer a limpeza de sua boca Outros', '[T001] O (a) Sr. (a) está com tosse há três semanas ou mais? ', '[T002] O (a) Sr (a) tem mancha com dormência ou parte da pele com dormência?', '[T003] Algum médico já lhe deu o diagnóstico de doença de Chagas? ', '[T004] Nos últimos 12 meses, algum médico lhe deu diagnóstico de doença/infecção sexualmente transmissível?', '[V0028] Peso do domicílio e dos moradores sem calibração', '[V0029] Peso do morador selecionado sem calibração', '[V00281] Peso do domicílio e dos moradores com calibração', '[V00291] Peso do morador selecionado com calibração', '[V00282] Projeção da população', '[V00292] Projeção da população para moradores selecionados', '[V00283] Domínio de projeção para domicílio e moradores', '[V00293] Domínio de projeção para morador selecionado', '[VDC001] Número de componentes do domicílio (exclusive as pessoas cuja condição na família era pensionista, empregado doméstico ou parente do empregado doméstico) ', '[VDC003] Total de moradores com 15 anos ou mais', '[VDF002] \"Rendimento domiciliar (exclusive o rendimento das pessoas cuja condição na unidade domiciliar era pensionista, empregado doméstico ou parente do empregado doméstico)\"', '[VDF003] \"Rendimento domiciliar per capita (exclusive o rendimento das pessoas cuja condição na unidade domiciliar era pensionista, empregado doméstico ou parente do empregado doméstico)\"', '[VDDATA] Data de geração do arquivo de microdados. Data ordenada na forma: ano (4 algarismos), mês (2) e dia (2) -  AAAAMMDD']\n",
      "\n",
      "Colunas object (126):\n",
      "['[V0001] Unidade da Federação', '[V0026] Tipo de situação censitária', '[V0031] Tipo de área', '[V0025A] Seleção do morador de 15 anos ou mais para responder o questionário individual', '[A001] Tipo do domicílio', '[A002010] Qual é o material que predomina na construção das paredes externas deste domicílio?', '[A003010] Material predominante na cobertura (telhado) do domicílio', '[A004010] Qual é o material que predomina no piso deste domicílio', '[A005010] Qual é a principal forma de abastecimento de água deste domicílio', '[A00601]  A água utilizada neste domicílio chega', '[A009010]  A água utilizada para beber neste domicílio é', '[A01401] Quantos banheiros (com chuveiro ou banheira e vaso sanitário ou privada) de uso exclusivo dos moradores existem neste domicílio, inclusive os localizados no terreno ou propriedade', '[A01501] Para onde vai o esgoto do banheiro? Ou Para onde vai o esgoto do sanitário ou do buraco para dejeções?', '[A016010] Qual o (principal) destino dado ao lixo', '[B001] O seu domicílio está cadastrado na unidade de saúde da família ', '[B004] Nos últimos doze meses, com que frequência o seu domicílio recebeu uma visita de algum agente de endemias (como a dengue, por exemplo)', '[C004] Condição no domicílio', '[C006] Sexo', '[C00701] Dia de nascimento', '[C00702] Mês de nascimento', '[C00703] Ano de nascimento', '[C009] Cor ou raça', '[C011] Qual é o estado civil de ___? ', '[C012] Informante do Módulo C', '[D008] Anteriormente ___frequentou escola ou creche', '[D015] Informante do Módulo D', '[E027] Informante do Módulo E', '[F016] Informante do Módulo F', '[I012] Informante do Módulo I', '[J001] De um modo geral, como é o estado de saúde de________', '[J00101] Considerando saúde como um estado de bem-estar físico e mental, e não somente a ausência de doenças, como é o estado de saúde de _____________? ', '[J01101] Quando ____ consultou um médico pela última vez', '[J01301] Quando ___ consultou um dentista pela última vez', '[J060] Informante do Módulo J', '[M001] Entrevista do adulto selecionado', '[M002] Identificação da mãe do morador selecionado', '[M00203]  Morador selecionado está apto para responder? ', '[M01401] Com quantos familiares ou parentes ___ pode contar em momentos bons ou ruins', '[M01501]  Com quantos amigos próximos ___ pode contar em momentos bons ou ruins (Sem considerar os familiares ou parentes', '[M01601] Nos últimos doze meses, com que frequência o(a) Sr(a) se reuniu com outras pessoas para prática de atividades esportivas, exercícios físicos, recreativos ou artísticos', '[M01701] Nos últimos doze meses, com que frequência o(a) Sr(a) participou de reuniões de grupos como associações de moradores ou funcionários, movimentos sociais/comunitários, centros acadêmicos ou similares', '[M01801] Nos últimos 12 meses, com que frequência o(a) Sr(a) fez trabalho voluntário não remunerado', '[M01901] Nos últimos doze meses, com que frequência o(a) Sr(a) compareceu a atividades coletivas da sua religião ou de outra religião sem contar com situações como casamento, batizado, ou enterro)', '[N001] Em geral, como o(a) Sr(a) avalia a sua saúde', '[N00101] Considerando saúde como um estado de bem-estar físico e mental, e não somente a ausência de doenças, como você avalia o seu estado de saúde? ', '[N004] Quando o(a) Sr(a) sobe uma ladeira, um lance de escadas ou caminha rápido no plano, sente dor ou desconforto no peito', '[N005] Quando o(a) Sr(a) caminha em lugar plano, em velocidade normal, sente dor ou desconforto no peito', '[N010] Nas duas últimas semanas, com que frequência o(a) Sr(a) teve problemas no sono, como dificuldade para adormecer, acordar frequentemente à noite ou dormir mais do que de costume?', '[N011] Nas duas últimas semanas, com que frequência o(a) Sr(a) teve problemas por não se sentir descansado(a) e disposto(a) durante o dia, sentindo-se cansado(a), sem ter energia? ', '[N012] Nas duas últimas semanas, com que frequência o(a) Sr(a) teve pouco interesse ou não senitiu prazer em fazer as coisas? ', '[N013] Nas duas últimas semanas, com que frequência o(a) Sr(a) teve problemas para se concentrar nas suas atividades habituais? ', '[N014] Nas duas últimas semanas, com que frequência o(a) Sr(a) teve problemas na alimentação, como ter falta de apetite ou comer muito mais do que de costume?', '[N015] Nas duas últimas semanas, com que frequência o(a) Sr(a) teve lentidão para se movimentar ou falar, ou ao contrário ficou muito agitado(a) ou inquieto(a)?', '[N016] Nas duas últimas semanas, com que frequência o(a) Sr(a) se sentiu deprimido(a), “pra baixo” ou sem perspectiva?', '[N017] Nas duas últimas semanas, com que frequência o(a) Sr(a) se sentiu mal consigo mesmo, se achando um fracasso ou achando que decepcionou sua família?', '[N018] Nas duas últimas semanas, com que frequência o(a) Sr(a) pensou em se ferir de alguma maneira ou achou que seria melhor estar morto?', '[O00402] Com que frequência o(a) Sr(a) usa cinto de segurança quando anda no banco da frente como passageiro de automóvel (inclusive táxi, aplicativos de transporte e similares)?', '[O00501]  Com que frequência o(a) Sr(a) usa cinto de segurança quando anda no banco de trás de automóvel (inclusive táxi, aplicativos de transporte e similares)?', '[O00801] Com que frequência o(a) Sr(a) usa capacete quando anda como passageiro de motocicleta', '[P00102] O(A) Sr(a) sabe seu peso? ', '[P00201] Quanto tempo faz que o(a) Sr(a) se pesou da última vez? ', '[P00402] O(A) Sr(a) sabe sua altura? (mesmo que seja valor aproximado) ', '[P00405] Marca de imputação para altura e/ou peso referido', '[P006] Ontem o(a) Sr(a) comeu arroz, macarrão, polenta, cuscuz ou milho verde. ', '[P00901] Em quantos dias da semana, o(a) Sr(a) costuma comer pelo menos um tipo de verdura ou legume (sem contar batata, mandioca, cará ou inhame) como alface, tomate, couve, cenoura, chuchu, berinjela, abobrinha? ', '[P01101] Em quantos dias da semana o(a) Sr(a) costuma comer carne vermelha (boi, porco, cabrito, bode, ovelha etc.)? ', '[P013] Em quantos dias da semana o(a) Sr(a) costuma comer frango/galinha? ', '[P015] Em quantos dias da semana o(a) Sr(a) costuma comer peixe? ', '[P02001] Em quantos dias da semana o(a) Sr(a) costuma tomar suco de caixinha/lata ou refresco em pó ? ', '[P01601] Em quantos dias da semana o(a) Sr(a) costuma tomar suco de fruta natural (incluída a polpa de fruta congelada)? ', '[P018] Em quantos dias da semana o(a) Sr(a) costuma comer frutas? ', '[P02002] Em quantos dias da semana o(a) Sr(a) costuma tomar refrigerante? ', '[P023] Em quantos dias da semana o(a) Sr(a) costuma tomar leite? (de origem animal: vaca, cabra, búfala etc.) ', '[P02501] Em quantos dias da semana o(a) Sr(a) costuma comer alimentos doces como biscoito/bolacha recheado, chocolate, gelatina, balas e outros?', '[P02602] Em quantos dias da semana o(a) Sr(a) costuma substituir a refeição do almoço por lanches rápidos como sanduíches, salgados, pizza, cachorro quente, etc? ', '[P02601] Considerando a comida preparada na hora e os alimentos industrializados, o(a) Sr(a) acha que o seu consumo de sal é:', '[P027] Com que frequência o(a) Sr(a) costuma consumir alguma bebida alcoólica?', '[P042] Nas suas atividades habituais (tais como ir a algum curso, escola ou clube ou levar alguém a algum curso, escola ou clube), quantos dias por semana o(a) Sr(a) faz alguma atividade que envolva deslocamento a pé ou bicicleta? (Exceto o trabalho)', '[P04501] Em média, quantas horas por dia o(a) Sr(a) costuma ficar assistindo televisão? ', '[P04502] Em um dia, quantas horas do seu tempo livre (excluindo o trabalho), o(a) Sr(a) costuma usar computador, tablet ou celular para lazer, tais como: utilizar redes sociais, para ver notícias, vídeos, jogar etc? ', '[P050] Atualmente, o(a) Sr(a) fuma algum produto do tabaco? ', '[P067] ATUALMENTE, o (a) Sr (a) masca fumo, usa rapé ou algum outro produto do tabaco que não faz fumaça?', '[P06701] O(a) Sr(a) usa aparelhos eletrônicos com nicotina líquida ou folha de tabaco picado (cigarro eletrônico, narguilé eletrônico, cigarro aquecido ou outro dispositivo eletrônico para fumar ou vaporizar)? ', '[P068] Com que frequência alguém fuma dentro do seu domicílio? ', '[P069] Nos últimos trinta dias, o(a) Sr(a) viu alguma propaganda ou anúncio de cigarros nos pontos de venda de cigarros? ', '[P06901] Nos últimos 30 dias, o(a) Sr(a) viu alguma propaganda ou anúncio de cigarros na internet, incluindo redes sociais (Facebook, Instagram, Twitter, WhatsApp, YouTube, Snapchat etc)? ', '[P07004] Viu ou ouviu informações nos jornais ou revistas?', '[P07005] Viu ou ouviu informações na televisão?', '[P07006] Viu ou ouviu informações no rádio?', '[P07007] Viu ou ouviu informações na internet, incluindo redes sociais?', '[P07101] Nos últimos trinta dias, viu alguma foto ou advertência sobre os riscos de fumar nos maços de cigarros? ', '[Q00101] Quando foi a última vez que o (a) Sr(a) teve sua pressão arterial medida?', '[Q00201] Algum médico já lhe deu o diagnóstico de hipertensão arterial (pressão alta)? ', '[Q02901] Quando foi a última vez que o(a) Sr(a) fez exame de sangue para medir a glicemia, isto é, o açúcar no sangue? ', '[Q03001] Algum médico já lhe deu o diagnóstico de diabetes? ', '[Q05901] Quando foi a última vez que o(a) Sr(a) fez exame de sangue para medir o colesterol e triglicerídeos? ', '[Q060] Algum médico já lhe deu o diagnóstico de colesterol alto? ', '[U00101] Com que frequência o(a) Sr(a) usa escova de dentes para a higiene bucal', '[U00401]  Com que frequência o(a) Sr(a) troca a sua escova de dente por uma nova', '[U005] Em geral, como o(a) Sr(a) avalia sua saúde bucal (dentes e gengivas)', '[U006] Que grau de dificuldade o(a) Sr(s) tem para se alimentar por causa de problemas com seus dentes ou dentadura?', '[U02302]  Lembrando-se dos seus dentes permanentes de cima, o(a) Sr(a) perdeu algum', '[U02402] Lembrando-se dos seus dentes permanentes de baixo, o(a) Sr(a) perdeu algum', '[V001] Tipo da entrevista', '[V00101] O questionário foi preenchido por:', '[V00201] Nos últimos doze meses, alguém: Te ofendeu, humilhou ou ridicularizou na frente de outras pessoas?', '[V00202] Nos últimos doze meses, alguém: Gritou com você ou te xingou?', '[V00203] Nos últimos doze meses, alguém: Usou redes sociais ou celular para ameaçar, ofender, xingar ou expor imagens suas sem o seu consentimento? ', '[V00204] Nos últimos doze meses, alguém: Te ameaçou de ferir ou machucar alguém importante para você?', '[V00205] Nos últimos doze meses, alguém: Destruiu alguma coisa sua de propósito?', '[V01401] Nos últimos doze meses, alguém: Te deu um tapa ou uma bofetada?', '[V01402] Nos últimos doze meses, alguém: Te empurrou, segurou com força ou jogou algo em você com a intenção de machucar?', '[V01403] Nos últimos doze meses, alguém: Te deu um soco, chutou ou arrastou pelo cabelo?', '[V01404] Nos últimos doze meses, alguém: Tentou ou efetivamente estrangulou, asfixiou ou te queimou de propósito?', '[V01405] Nos últimos doze meses, alguém: Te ameaçou ou feriu com uma faca, arma de fogo ou alguma outra arma ou objeto?', '[V02701] Nos últimos doze meses, alguém: tocou, manipulou, beijou ou expôs partes do seu corpo contra sua vontade', '[V02702] Nos últimos doze meses, alguém: Te ameaçou ou forçou a ter relações sexuais ou quaisquer outros atos sexuais contra sua vontade?', '[V02801]  E alguma vez na vida, alguém: tocou, manipulou, beijou ou expôs partes do seu corpo contra sua vontade', '[V02802] E alguma vez na vida, alguém: Te ameaçou ou forçou a ter relações sexuais ou quaisquer outros atos sexuais contra sua vontade?', '[Y001] Que idade tinha quando teve relações sexuais pela primeira vez? ', '[Y002] Nos últimos doze meses teve relações sexuais? ', '[Y006] Nos últimos doze meses, alguma vez procurou algum serviço público (posto, centro de saúde, hospital público, hospital conveniado do SUS, agente comunitário de saúde) para obter camisinha masculina ou feminina? ', '[H001] Quando foi a última vez que o(a) sr(a) consultou com um(a) médico(a)?', '[VDD004A] Nível de instrução mais elevado alcançado (pessoas de 5 anos ou mais de idade) padronizado para o Ensino Fundamental -  SISTEMA DE 9 ANOS', '[VDE001] Condição em relação à força de trabalho na semana de referência para pessoas de 14 anos ou mais de idade', '[VDF004] Faixa de rendimento domiciliar per capita (exclusive o rendimento das pessoas cuja condição na unidade domiciliar era pensionista, empregado doméstico ou parente do empregado doméstico)']\n"
     ]
    }
   ],
   "source": [
    "# Converter todas as colunas para string (para análise segura)\n",
    "df = df.astype(str)\n",
    "\n",
    "float_columns = []\n",
    "object_columns = []\n",
    "\n",
    "for column in df.columns:\n",
    "    sample_values = df[column].head(100).dropna()\n",
    "\n",
    "    def is_float_or_empty(val):\n",
    "        val = val.strip()\n",
    "        if val == '' or val.lower() in ['nan', 'na']:\n",
    "            return True\n",
    "        try:\n",
    "            float(val)\n",
    "            return True\n",
    "        except ValueError:\n",
    "            return False\n",
    "\n",
    "    # Verificar se todos os 100 primeiros valores são float-like ou vazios\n",
    "    all_numeric_or_empty = sample_values.apply(is_float_or_empty).all()\n",
    "\n",
    "    if all_numeric_or_empty:\n",
    "        # Converter a coluna completa para float, tratando valores não numéricos como NaN\n",
    "        df[column] = pd.to_numeric(df[column].str.strip(), errors='coerce')\n",
    "        float_columns.append(column)\n",
    "    else:\n",
    "        df[column] = df[column].astype(object)\n",
    "        object_columns.append(column)\n",
    "\n",
    "# Mostrar as colunas classificadas\n",
    "print(f\"\\nColunas float ({len(float_columns)}):\")\n",
    "print(float_columns)\n",
    "\n",
    "print(f\"\\nColunas object ({len(object_columns)}):\")\n",
    "print(object_columns)\n"
   ]
  },
  {
   "cell_type": "markdown",
   "id": "e747096e",
   "metadata": {},
   "source": [
    "USUÁRIO ESCOLHE COMO DESEJA BAIXAR A BASE"
   ]
  },
  {
   "cell_type": "code",
   "execution_count": 28,
   "id": "68b6ecb6",
   "metadata": {},
   "outputs": [],
   "source": [
    "entrada = input(\"Escolha uma das opções abaixo:\\n\"\n",
    "                \"1. Baixar o relatório tratado como csv\\n\"\n",
    "                \"2. Baixar o relatório tratado como xlsx\\n\"\n",
    "                \"3. Baixar amostra do relatório como csv\\n\"\n",
    "                \"4. Baixar amostra do relatório como xlsx\\n\"\n",
    "                \"5. Baixar amostra do relatório separado em numerica e categórica\\n\")"
   ]
  },
  {
   "cell_type": "code",
   "execution_count": null,
   "id": "e6863673",
   "metadata": {},
   "outputs": [
    {
     "name": "stdout",
     "output_type": "stream",
     "text": [
      "Base completa salva como CSV.\n"
     ]
    }
   ],
   "source": [
    "if entrada == \"1\":\n",
    "    # Baixar a base completa como CSV\n",
    "    df.to_csv('base_tratada.csv', index=False)\n",
    "    print(\"Base completa salva como CSV.\")\n",
    "    \n",
    "elif entrada == \"2\":\n",
    "    # Baixar a base completa como XLSX\n",
    "    df.to_excel('base_tratada.xlsx', index=False)\n",
    "    print(\"Base completa salva como XLSX.\")\n",
    "\n",
    "elif entrada == \"3\":\n",
    "    # Manter apenas as primeiras 100 linhas\n",
    "    df = df.head(100)\n",
    "\n",
    "    # Baixar a base completa como CSV\n",
    "    df.to_csv('base_amostra.csv', index=False)\n",
    "    print(\"Base completa salva como CSV.\")\n",
    "\n",
    "elif entrada == \"4\":\n",
    "    # Manter apenas as primeiras 100 linhas\n",
    "    df = df.head(100)\n",
    "\n",
    "    # Baixar a base completa como XLSX\n",
    "    df.to_excel('base_amostra.xlsx', index=False)\n",
    "    print(\"Base completa salva como XLSX.\")\n",
    "    \n",
    "elif entrada == \"5\":\n",
    "    # Manter apenas as primeiras 100 linhas\n",
    "    df = df.head(100)\n",
    "\n",
    "    # Salvar as colunas float em uma planilha Excel\n",
    "    df[float_columns].to_excel('float_columns.xlsx', index=False)\n",
    "    print(\"Colunas float salvas em float_columns.xlsx\")\n",
    "\n",
    "    # Salvar as colunas object em uma planilha Excel\n",
    "    df[object_columns].to_excel('object_columns.xlsx', index=False)\n",
    "    print(\"Colunas object salvas em object_columns.xlsx\")\n",
    "else:\n",
    "    print(\"Opção inválida. Tente novamente.\")\n"
   ]
  }
 ],
 "metadata": {
  "kernelspec": {
   "display_name": "Python 3",
   "language": "python",
   "name": "python3"
  },
  "language_info": {
   "codemirror_mode": {
    "name": "ipython",
    "version": 3
   },
   "file_extension": ".py",
   "mimetype": "text/x-python",
   "name": "python",
   "nbconvert_exporter": "python",
   "pygments_lexer": "ipython3",
   "version": "3.13.1"
  }
 },
 "nbformat": 4,
 "nbformat_minor": 5
}
