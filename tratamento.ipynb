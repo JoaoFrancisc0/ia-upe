{
 "cells": [
  {
   "cell_type": "markdown",
   "id": "55ae0e0f",
   "metadata": {},
   "source": [
    "CARREGA A BASE"
   ]
  },
  {
   "cell_type": "code",
   "execution_count": 11,
   "id": "1db90de6",
   "metadata": {},
   "outputs": [
    {
     "name": "stderr",
     "output_type": "stream",
     "text": [
      "C:\\Users\\joaof\\AppData\\Local\\Temp\\ipykernel_25076\\1225244378.py:5: DtypeWarning: Columns (10,18,21,23,62,63,64,81,84,92,93,101,102,103,110,116,118,122,124,129,197,201,206,214,218,219,229,246,254,298,302,303,304,307,308,309,360,369,379,396,425,432,433,435,436,437,452,457,491,493,501,502,503,504,505,528,534,544,548,561,569,570,571,572,573,574,575,576,578,580,581,582,583,584,585,586,587,588,591,600,608,609,610,611,612,613,614,618,624,625,631,634,635,636,637,638,639,640,641,642,643,644,646,647,648,649,650,651,652,653,654,656,657,658,659,660,661,662,663,664,665,666,667,668,669,670,671,672,674,675,676,677,678,679,680,694,720,726,727,728,732,734,735,736,741,742,743,744,745,746,747,771,772,773,774,786) have mixed types. Specify dtype option on import or set low_memory=False.\n",
      "  df = pd.read_csv('pns_2019.csv')\n"
     ]
    },
    {
     "name": "stdout",
     "output_type": "stream",
     "text": [
      "(279382, 816)\n"
     ]
    }
   ],
   "source": [
    "import pandas as pd\n",
    "import numpy as np\n",
    "\n",
    "# Carregar a base de dados\n",
    "df = pd.read_csv('pns_2019.csv')\n",
    "\n",
    "# Base inicial\n",
    "print(df.shape)  # (linhas, colunas)\n",
    "copia_df = df.copy()"
   ]
  },
  {
   "cell_type": "markdown",
   "id": "2502319f",
   "metadata": {},
   "source": [
    "CARREGA A CÓPIA PARA NÃO PRECISAR FICAR CARREGANDO A BASE REPETIDAS VEZES"
   ]
  },
  {
   "cell_type": "code",
   "execution_count": 12,
   "id": "d06cce9c",
   "metadata": {},
   "outputs": [],
   "source": [
    "df = copia_df.copy()"
   ]
  },
  {
   "cell_type": "markdown",
   "id": "9f0234eb",
   "metadata": {},
   "source": [
    "REMOVE LINHAS ONDE ALVO NÃO FOI RESPONDIDA"
   ]
  },
  {
   "cell_type": "code",
   "execution_count": 13,
   "id": "0a5c393a",
   "metadata": {},
   "outputs": [
    {
     "name": "stdout",
     "output_type": "stream",
     "text": [
      "(90846, 816)\n"
     ]
    }
   ],
   "source": [
    "df = df.dropna(subset=[\"[Q088] Algum médico já lhe deu o diagnóstico de DORT? \"])\n",
    "print(df.shape)  # Verificar o novo tamanho do dataframe"
   ]
  },
  {
   "cell_type": "markdown",
   "id": "a2f816db",
   "metadata": {},
   "source": [
    "VERIFICA PROPORÇÃO DE LINHAS PREENCHIDAS POR COLUNA"
   ]
  },
  {
   "cell_type": "code",
   "execution_count": 14,
   "id": "3e2eb284",
   "metadata": {},
   "outputs": [
    {
     "name": "stdout",
     "output_type": "stream",
     "text": [
      "50%-55%: 3 colunas\n",
      "55%-60%: 30 colunas\n",
      "60%-65%: 4 colunas\n",
      "65%-70%: 2 colunas\n",
      "70%-75%: 1 colunas\n",
      "75%-80%: 7 colunas\n",
      "80%-85%: 11 colunas\n",
      "85%-90%: 1 colunas\n",
      "90%-95%: 8 colunas\n",
      "95%-100%: 239 colunas\n",
      "100%: 203 colunas\n"
     ]
    }
   ],
   "source": [
    "# Calcular a porcentagem de preenchimento para cada coluna\n",
    "percent_filled = df.notna().sum() / len(df) * 100\n",
    "\n",
    "# Contar o número de colunas em cada faixa de preenchimento de 5%, a partir de 50%\n",
    "ranges = {}\n",
    "for i in range(50, 100, 5):\n",
    "    ranges[f'{i}%-{i+5}%'] = percent_filled.between(i, i+5, inclusive=\"both\").sum()\n",
    "\n",
    "# Para 100%, contagem separada\n",
    "ranges['100%'] = (percent_filled == 100).sum()\n",
    "\n",
    "# Exibir os resultados\n",
    "for range_label, count in ranges.items():\n",
    "    print(f\"{range_label}: {count} colunas\")"
   ]
  },
  {
   "cell_type": "markdown",
   "id": "ea7eaef3",
   "metadata": {},
   "source": [
    "REMOVE COLUNAS COM MENOS DE XX% DOS DADOS PREENCHIDOS"
   ]
  },
  {
   "cell_type": "code",
   "execution_count": 15,
   "id": "214acc8b",
   "metadata": {},
   "outputs": [
    {
     "name": "stdout",
     "output_type": "stream",
     "text": [
      "(90846, 247)\n"
     ]
    }
   ],
   "source": [
    "# Calcular o número total de linhas no DataFrame\n",
    "total_rows = len(df)\n",
    "\n",
    "# Filtrar colunas com XX% ou mais das linhas preenchidas (sem NaN)\n",
    "df = df.loc[:, df.notna().sum() >= (0.9 * total_rows)]\n",
    "\n",
    "# Exibir o novo tamanho do DataFrame\n",
    "print(df.shape)"
   ]
  },
  {
   "cell_type": "markdown",
   "id": "ab8d3182",
   "metadata": {},
   "source": [
    "MANTER APENAS AS COLUNAS RELEVANTES"
   ]
  },
  {
   "cell_type": "code",
   "execution_count": 17,
   "id": "5adbd6c0",
   "metadata": {},
   "outputs": [
    {
     "name": "stdout",
     "output_type": "stream",
     "text": [
      "(90846, 20)\n"
     ]
    }
   ],
   "source": [
    "# Carregar os nomes das colunas relevantes do arquivo, preservando os espaços\n",
    "with open('colunas_relevantes.txt', 'r', encoding='utf-8') as file:\n",
    "    colunas_relevantes = [linha.rstrip('\\n') for linha in file.readlines()]  # Remove apenas o caractere de nova linha\n",
    "\n",
    "# Verificar quais colunas do arquivo estão presentes no DataFrame\n",
    "colunas_existentes = [col for col in colunas_relevantes if col in df.columns]\n",
    "\n",
    "# Filtrar o DataFrame para manter apenas as colunas existentes\n",
    "df = df[colunas_existentes]\n",
    "\n",
    "# Exibir o novo tamanho do DataFrame\n",
    "print(df.shape)"
   ]
  },
  {
   "cell_type": "markdown",
   "id": "69ad1393",
   "metadata": {},
   "source": [
    "CONVERTE COLUNAS CATEGORICAS DE SIM E NÃO PARA NUMERICAS"
   ]
  },
  {
   "cell_type": "code",
   "execution_count": 18,
   "id": "0511a39a",
   "metadata": {},
   "outputs": [
    {
     "name": "stderr",
     "output_type": "stream",
     "text": [
      "C:\\Users\\joaof\\AppData\\Local\\Temp\\ipykernel_25076\\1398251694.py:7: SettingWithCopyWarning: \n",
      "A value is trying to be set on a copy of a slice from a DataFrame.\n",
      "Try using .loc[row_indexer,col_indexer] = value instead\n",
      "\n",
      "See the caveats in the documentation: https://pandas.pydata.org/pandas-docs/stable/user_guide/indexing.html#returning-a-view-versus-a-copy\n",
      "  df[column] = np.where(stripped == 'Sim', 1,\n",
      "C:\\Users\\joaof\\AppData\\Local\\Temp\\ipykernel_25076\\1398251694.py:7: SettingWithCopyWarning: \n",
      "A value is trying to be set on a copy of a slice from a DataFrame.\n",
      "Try using .loc[row_indexer,col_indexer] = value instead\n",
      "\n",
      "See the caveats in the documentation: https://pandas.pydata.org/pandas-docs/stable/user_guide/indexing.html#returning-a-view-versus-a-copy\n",
      "  df[column] = np.where(stripped == 'Sim', 1,\n",
      "C:\\Users\\joaof\\AppData\\Local\\Temp\\ipykernel_25076\\1398251694.py:7: SettingWithCopyWarning: \n",
      "A value is trying to be set on a copy of a slice from a DataFrame.\n",
      "Try using .loc[row_indexer,col_indexer] = value instead\n",
      "\n",
      "See the caveats in the documentation: https://pandas.pydata.org/pandas-docs/stable/user_guide/indexing.html#returning-a-view-versus-a-copy\n",
      "  df[column] = np.where(stripped == 'Sim', 1,\n",
      "C:\\Users\\joaof\\AppData\\Local\\Temp\\ipykernel_25076\\1398251694.py:7: SettingWithCopyWarning: \n",
      "A value is trying to be set on a copy of a slice from a DataFrame.\n",
      "Try using .loc[row_indexer,col_indexer] = value instead\n",
      "\n",
      "See the caveats in the documentation: https://pandas.pydata.org/pandas-docs/stable/user_guide/indexing.html#returning-a-view-versus-a-copy\n",
      "  df[column] = np.where(stripped == 'Sim', 1,\n",
      "C:\\Users\\joaof\\AppData\\Local\\Temp\\ipykernel_25076\\1398251694.py:7: SettingWithCopyWarning: \n",
      "A value is trying to be set on a copy of a slice from a DataFrame.\n",
      "Try using .loc[row_indexer,col_indexer] = value instead\n",
      "\n",
      "See the caveats in the documentation: https://pandas.pydata.org/pandas-docs/stable/user_guide/indexing.html#returning-a-view-versus-a-copy\n",
      "  df[column] = np.where(stripped == 'Sim', 1,\n"
     ]
    },
    {
     "name": "stdout",
     "output_type": "stream",
     "text": [
      "Colunas convertidas:  7\n"
     ]
    },
    {
     "name": "stderr",
     "output_type": "stream",
     "text": [
      "C:\\Users\\joaof\\AppData\\Local\\Temp\\ipykernel_25076\\1398251694.py:7: SettingWithCopyWarning: \n",
      "A value is trying to be set on a copy of a slice from a DataFrame.\n",
      "Try using .loc[row_indexer,col_indexer] = value instead\n",
      "\n",
      "See the caveats in the documentation: https://pandas.pydata.org/pandas-docs/stable/user_guide/indexing.html#returning-a-view-versus-a-copy\n",
      "  df[column] = np.where(stripped == 'Sim', 1,\n",
      "C:\\Users\\joaof\\AppData\\Local\\Temp\\ipykernel_25076\\1398251694.py:7: SettingWithCopyWarning: \n",
      "A value is trying to be set on a copy of a slice from a DataFrame.\n",
      "Try using .loc[row_indexer,col_indexer] = value instead\n",
      "\n",
      "See the caveats in the documentation: https://pandas.pydata.org/pandas-docs/stable/user_guide/indexing.html#returning-a-view-versus-a-copy\n",
      "  df[column] = np.where(stripped == 'Sim', 1,\n"
     ]
    }
   ],
   "source": [
    "cont = 0\n",
    "for column in df.columns:\n",
    "    if df[column].dtype == 'object':\n",
    "        stripped = df[column].astype(str).str.strip()\n",
    "        unique_values = stripped.dropna().unique()\n",
    "        if set(unique_values).issubset({'Sim', 'Não'}):\n",
    "            df[column] = np.where(stripped == 'Sim', 1,\n",
    "                          np.where(stripped == 'Não', 0, pd.NA))\n",
    "            cont+=1\n",
    "\n",
    "print(\"Colunas convertidas: \", cont)\n"
   ]
  },
  {
   "cell_type": "markdown",
   "id": "f68195f6",
   "metadata": {},
   "source": [
    "DEFINE O TIPO DA COLUNA COMO FLOAT OU OBJECT"
   ]
  },
  {
   "cell_type": "code",
   "execution_count": 19,
   "id": "749e6c66",
   "metadata": {},
   "outputs": [
    {
     "name": "stdout",
     "output_type": "stream",
     "text": [
      "\n",
      "Colunas float (12):\n",
      "['[Q088] Algum médico já lhe deu o diagnóstico de DORT? ', '[Q084] O(a) Sr(a) tem algum problema crônico de coluna, como dor crônica nas costas ou no pescoço, lombalgia, dor ciática, problemas nas vértebras ou disco? ', '[Q079] Algum médico já lhe deu o diagnóstico de artrite ou reumatismo? ', '[P044] Nas suas atividades domésticas, o(a) Sr(a) faz faxina pesada, carrega peso ou faz outra atividade pesada que requer esforço físico intenso? (não considerar atividade doméstica remunerada) ', '[C008] Idade do morador na data de referência', '[E001] Na semana de___ a___ (semana de referência), ___ trabalhou ou estagiou, durante pelo menos uma hora, em alguma atividade remunerada em dinheiro', '[E033] . Na semana de___a___ (semana de referência), ___ qual foi o total de horas que dedicou às atividades de cuidados de pessoas e/ou afazeres domésticos? ', '[P034] Nos últimos três meses, o(a) Sr(a) praticou algum tipo de exercício físico ou esporte? ', '[J002]  Nas duas últimas semanas, ___ deixou de realizar quaisquer de suas atividades habituais (trabalhar, ir à escola, brincar, afazeres domésticos etc.) por motivo da própria saúde', '[P00103] \"Peso - Informado (em kg) (3 inteiros e 1 casa decimal)\"', '[P00104] \"Peso - Final (em kg) (3 inteiros e 1 casa decimal)\"', '[P00404] \"Altura - Final (em cm) (3 inteiros)\"']\n",
      "\n",
      "Colunas object (8):\n",
      "['[C006] Sexo', '[VDE001] Condição em relação à força de trabalho na semana de referência para pessoas de 14 anos ou mais de idade', '[M01601] Nos últimos doze meses, com que frequência o(a) Sr(a) se reuniu com outras pessoas para prática de atividades esportivas, exercícios físicos, recreativos ou artísticos', '[P042] Nas suas atividades habituais (tais como ir a algum curso, escola ou clube ou levar alguém a algum curso, escola ou clube), quantos dias por semana o(a) Sr(a) faz alguma atividade que envolva deslocamento a pé ou bicicleta? (Exceto o trabalho)', '[J001] De um modo geral, como é o estado de saúde de________', '[J00101] Considerando saúde como um estado de bem-estar físico e mental, e não somente a ausência de doenças, como é o estado de saúde de _____________? ', '[P00102] O(A) Sr(a) sabe seu peso? ', '[P00402] O(A) Sr(a) sabe sua altura? (mesmo que seja valor aproximado) ']\n"
     ]
    }
   ],
   "source": [
    "# Converter todas as colunas para string (para análise segura)\n",
    "df = df.astype(str)\n",
    "\n",
    "float_columns = []\n",
    "object_columns = []\n",
    "\n",
    "for column in df.columns:\n",
    "    sample_values = df[column].head(100).dropna()\n",
    "\n",
    "    def is_float_or_empty(val):\n",
    "        val = val.strip()\n",
    "        if val == '' or val.lower() in ['nan', 'na']:\n",
    "            return True\n",
    "        try:\n",
    "            float(val)\n",
    "            return True\n",
    "        except ValueError:\n",
    "            return False\n",
    "\n",
    "    # Verificar se todos os 100 primeiros valores são float-like ou vazios\n",
    "    all_numeric_or_empty = sample_values.apply(is_float_or_empty).all()\n",
    "\n",
    "    if all_numeric_or_empty:\n",
    "        # Converter a coluna completa para float, tratando valores não numéricos como NaN\n",
    "        df[column] = pd.to_numeric(df[column].str.strip(), errors='coerce')\n",
    "        float_columns.append(column)\n",
    "    else:\n",
    "        df[column] = df[column].astype(object)\n",
    "        object_columns.append(column)\n",
    "\n",
    "# Mostrar as colunas classificadas\n",
    "print(f\"\\nColunas float ({len(float_columns)}):\")\n",
    "print(float_columns)\n",
    "\n",
    "print(f\"\\nColunas object ({len(object_columns)}):\")\n",
    "print(object_columns)\n"
   ]
  },
  {
   "cell_type": "markdown",
   "id": "b6c5e6bb",
   "metadata": {},
   "source": [
    "PRENCHE DADOS FALTANTES COM A MEDIANA"
   ]
  },
  {
   "cell_type": "code",
   "execution_count": 20,
   "id": "801cd645",
   "metadata": {},
   "outputs": [
    {
     "name": "stdout",
     "output_type": "stream",
     "text": [
      "Dados faltantes preenchidos com a mediana.\n"
     ]
    },
    {
     "name": "stderr",
     "output_type": "stream",
     "text": [
      "C:\\Users\\joaof\\AppData\\Local\\Temp\\ipykernel_25076\\1459902153.py:4: FutureWarning: A value is trying to be set on a copy of a DataFrame or Series through chained assignment using an inplace method.\n",
      "The behavior will change in pandas 3.0. This inplace method will never work because the intermediate object on which we are setting values always behaves as a copy.\n",
      "\n",
      "For example, when doing 'df[col].method(value, inplace=True)', try using 'df.method({col: value}, inplace=True)' or df[col] = df[col].method(value) instead, to perform the operation inplace on the original object.\n",
      "\n",
      "\n",
      "  df[column].fillna(median_value, inplace=True)\n",
      "C:\\Users\\joaof\\AppData\\Local\\Temp\\ipykernel_25076\\1459902153.py:4: FutureWarning: A value is trying to be set on a copy of a DataFrame or Series through chained assignment using an inplace method.\n",
      "The behavior will change in pandas 3.0. This inplace method will never work because the intermediate object on which we are setting values always behaves as a copy.\n",
      "\n",
      "For example, when doing 'df[col].method(value, inplace=True)', try using 'df.method({col: value}, inplace=True)' or df[col] = df[col].method(value) instead, to perform the operation inplace on the original object.\n",
      "\n",
      "\n",
      "  df[column].fillna(median_value, inplace=True)\n",
      "C:\\Users\\joaof\\AppData\\Local\\Temp\\ipykernel_25076\\1459902153.py:4: FutureWarning: A value is trying to be set on a copy of a DataFrame or Series through chained assignment using an inplace method.\n",
      "The behavior will change in pandas 3.0. This inplace method will never work because the intermediate object on which we are setting values always behaves as a copy.\n",
      "\n",
      "For example, when doing 'df[col].method(value, inplace=True)', try using 'df.method({col: value}, inplace=True)' or df[col] = df[col].method(value) instead, to perform the operation inplace on the original object.\n",
      "\n",
      "\n",
      "  df[column].fillna(median_value, inplace=True)\n",
      "C:\\Users\\joaof\\AppData\\Local\\Temp\\ipykernel_25076\\1459902153.py:4: FutureWarning: A value is trying to be set on a copy of a DataFrame or Series through chained assignment using an inplace method.\n",
      "The behavior will change in pandas 3.0. This inplace method will never work because the intermediate object on which we are setting values always behaves as a copy.\n",
      "\n",
      "For example, when doing 'df[col].method(value, inplace=True)', try using 'df.method({col: value}, inplace=True)' or df[col] = df[col].method(value) instead, to perform the operation inplace on the original object.\n",
      "\n",
      "\n",
      "  df[column].fillna(median_value, inplace=True)\n",
      "C:\\Users\\joaof\\AppData\\Local\\Temp\\ipykernel_25076\\1459902153.py:4: FutureWarning: A value is trying to be set on a copy of a DataFrame or Series through chained assignment using an inplace method.\n",
      "The behavior will change in pandas 3.0. This inplace method will never work because the intermediate object on which we are setting values always behaves as a copy.\n",
      "\n",
      "For example, when doing 'df[col].method(value, inplace=True)', try using 'df.method({col: value}, inplace=True)' or df[col] = df[col].method(value) instead, to perform the operation inplace on the original object.\n",
      "\n",
      "\n",
      "  df[column].fillna(median_value, inplace=True)\n",
      "C:\\Users\\joaof\\AppData\\Local\\Temp\\ipykernel_25076\\1459902153.py:4: FutureWarning: A value is trying to be set on a copy of a DataFrame or Series through chained assignment using an inplace method.\n",
      "The behavior will change in pandas 3.0. This inplace method will never work because the intermediate object on which we are setting values always behaves as a copy.\n",
      "\n",
      "For example, when doing 'df[col].method(value, inplace=True)', try using 'df.method({col: value}, inplace=True)' or df[col] = df[col].method(value) instead, to perform the operation inplace on the original object.\n",
      "\n",
      "\n",
      "  df[column].fillna(median_value, inplace=True)\n",
      "C:\\Users\\joaof\\AppData\\Local\\Temp\\ipykernel_25076\\1459902153.py:4: FutureWarning: A value is trying to be set on a copy of a DataFrame or Series through chained assignment using an inplace method.\n",
      "The behavior will change in pandas 3.0. This inplace method will never work because the intermediate object on which we are setting values always behaves as a copy.\n",
      "\n",
      "For example, when doing 'df[col].method(value, inplace=True)', try using 'df.method({col: value}, inplace=True)' or df[col] = df[col].method(value) instead, to perform the operation inplace on the original object.\n",
      "\n",
      "\n",
      "  df[column].fillna(median_value, inplace=True)\n",
      "C:\\Users\\joaof\\AppData\\Local\\Temp\\ipykernel_25076\\1459902153.py:4: FutureWarning: A value is trying to be set on a copy of a DataFrame or Series through chained assignment using an inplace method.\n",
      "The behavior will change in pandas 3.0. This inplace method will never work because the intermediate object on which we are setting values always behaves as a copy.\n",
      "\n",
      "For example, when doing 'df[col].method(value, inplace=True)', try using 'df.method({col: value}, inplace=True)' or df[col] = df[col].method(value) instead, to perform the operation inplace on the original object.\n",
      "\n",
      "\n",
      "  df[column].fillna(median_value, inplace=True)\n",
      "C:\\Users\\joaof\\AppData\\Local\\Temp\\ipykernel_25076\\1459902153.py:4: FutureWarning: A value is trying to be set on a copy of a DataFrame or Series through chained assignment using an inplace method.\n",
      "The behavior will change in pandas 3.0. This inplace method will never work because the intermediate object on which we are setting values always behaves as a copy.\n",
      "\n",
      "For example, when doing 'df[col].method(value, inplace=True)', try using 'df.method({col: value}, inplace=True)' or df[col] = df[col].method(value) instead, to perform the operation inplace on the original object.\n",
      "\n",
      "\n",
      "  df[column].fillna(median_value, inplace=True)\n",
      "C:\\Users\\joaof\\AppData\\Local\\Temp\\ipykernel_25076\\1459902153.py:4: FutureWarning: A value is trying to be set on a copy of a DataFrame or Series through chained assignment using an inplace method.\n",
      "The behavior will change in pandas 3.0. This inplace method will never work because the intermediate object on which we are setting values always behaves as a copy.\n",
      "\n",
      "For example, when doing 'df[col].method(value, inplace=True)', try using 'df.method({col: value}, inplace=True)' or df[col] = df[col].method(value) instead, to perform the operation inplace on the original object.\n",
      "\n",
      "\n",
      "  df[column].fillna(median_value, inplace=True)\n",
      "C:\\Users\\joaof\\AppData\\Local\\Temp\\ipykernel_25076\\1459902153.py:4: FutureWarning: A value is trying to be set on a copy of a DataFrame or Series through chained assignment using an inplace method.\n",
      "The behavior will change in pandas 3.0. This inplace method will never work because the intermediate object on which we are setting values always behaves as a copy.\n",
      "\n",
      "For example, when doing 'df[col].method(value, inplace=True)', try using 'df.method({col: value}, inplace=True)' or df[col] = df[col].method(value) instead, to perform the operation inplace on the original object.\n",
      "\n",
      "\n",
      "  df[column].fillna(median_value, inplace=True)\n",
      "C:\\Users\\joaof\\AppData\\Local\\Temp\\ipykernel_25076\\1459902153.py:4: FutureWarning: A value is trying to be set on a copy of a DataFrame or Series through chained assignment using an inplace method.\n",
      "The behavior will change in pandas 3.0. This inplace method will never work because the intermediate object on which we are setting values always behaves as a copy.\n",
      "\n",
      "For example, when doing 'df[col].method(value, inplace=True)', try using 'df.method({col: value}, inplace=True)' or df[col] = df[col].method(value) instead, to perform the operation inplace on the original object.\n",
      "\n",
      "\n",
      "  df[column].fillna(median_value, inplace=True)\n"
     ]
    }
   ],
   "source": [
    "# Preencher valores faltantes com a mediana para colunas numéricas\n",
    "for column in df.select_dtypes(include=['float64', 'int64']).columns:\n",
    "    median_value = df[column].median()\n",
    "    df[column].fillna(median_value, inplace=True)\n",
    "\n",
    "print(\"Dados faltantes preenchidos com a mediana.\")"
   ]
  },
  {
   "cell_type": "markdown",
   "id": "e747096e",
   "metadata": {},
   "source": [
    "USUÁRIO ESCOLHE COMO DESEJA BAIXAR A BASE"
   ]
  },
  {
   "cell_type": "code",
   "execution_count": 21,
   "id": "68b6ecb6",
   "metadata": {},
   "outputs": [],
   "source": [
    "entrada = input(\"Escolha uma das opções abaixo:\\n\"\n",
    "                \"1. Baixar o relatório tratado como csv\\n\"\n",
    "                \"2. Baixar o relatório tratado como xlsx\\n\"\n",
    "                \"3. Baixar amostra do relatório como csv\\n\"\n",
    "                \"4. Baixar amostra do relatório como xlsx\\n\"\n",
    "                \"5. Baixar amostra do relatório separado em numerica e categórica\\n\"\n",
    "                \"6. Baixar txt com os nomes das colunas restantes\\n\")"
   ]
  },
  {
   "cell_type": "code",
   "execution_count": 22,
   "id": "e6863673",
   "metadata": {},
   "outputs": [
    {
     "name": "stdout",
     "output_type": "stream",
     "text": [
      "Base completa salva como CSV.\n"
     ]
    }
   ],
   "source": [
    "if entrada == \"1\":\n",
    "    # Baixar a base completa como CSV\n",
    "    df.to_csv('base_tratada.csv', index=False)\n",
    "    print(\"Base completa salva como CSV.\")\n",
    "    \n",
    "elif entrada == \"2\":\n",
    "    # Baixar a base completa como XLSX\n",
    "    df.to_excel('base_tratada.xlsx', index=False)\n",
    "    print(\"Base completa salva como XLSX.\")\n",
    "\n",
    "elif entrada == \"3\":\n",
    "    # Manter apenas as primeiras 100 linhas\n",
    "    df = df.head(100)\n",
    "\n",
    "    # Baixar a base completa como CSV\n",
    "    df.to_csv('base_amostra.csv', index=False)\n",
    "    print(\"Base completa salva como CSV.\")\n",
    "\n",
    "elif entrada == \"4\":\n",
    "    # Manter apenas as primeiras 100 linhas\n",
    "    df = df.head(100)\n",
    "\n",
    "    # Baixar a base completa como XLSX\n",
    "    df.to_excel('base_amostra.xlsx', index=False)\n",
    "    print(\"Base completa salva como XLSX.\")\n",
    "    \n",
    "elif entrada == \"5\":\n",
    "    # Manter apenas as primeiras 100 linhas\n",
    "    df = df.head(100)\n",
    "\n",
    "    # Salvar as colunas float em uma planilha Excel\n",
    "    df[float_columns].to_excel('float_columns.xlsx', index=False)\n",
    "    print(\"Colunas float salvas em float_columns.xlsx\")\n",
    "\n",
    "    # Salvar as colunas object em uma planilha Excel\n",
    "    df[object_columns].to_excel('object_columns.xlsx', index=False)\n",
    "    print(\"Colunas object salvas em object_columns.xlsx\")\n",
    "\n",
    "elif entrada == \"6\":\n",
    "    # Criar um arquivo .txt com os nomes das colunas restantes\n",
    "    with open(\"colunas_restantes.txt\", \"w\", encoding=\"utf-8\") as f:\n",
    "        for coluna in df.columns:\n",
    "            f.write(coluna + \"\\n\")\n",
    "    print(\"Nomes das colunas salvos em colunas_restantes.txt\")\n",
    "else:\n",
    "    print(\"Opção inválida. Tente novamente.\")\n"
   ]
  }
 ],
 "metadata": {
  "kernelspec": {
   "display_name": "Python 3",
   "language": "python",
   "name": "python3"
  },
  "language_info": {
   "codemirror_mode": {
    "name": "ipython",
    "version": 3
   },
   "file_extension": ".py",
   "mimetype": "text/x-python",
   "name": "python",
   "nbconvert_exporter": "python",
   "pygments_lexer": "ipython3",
   "version": "3.13.1"
  }
 },
 "nbformat": 4,
 "nbformat_minor": 5
}
